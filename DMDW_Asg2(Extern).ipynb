{
  "nbformat": 4,
  "nbformat_minor": 0,
  "metadata": {
    "colab": {
      "name": "DMDW_Asg2(Extern).ipynb",
      "provenance": [],
      "mount_file_id": "1ArDKLG5RvbMmucguYKcbnpDE4enTXKU0",
      "authorship_tag": "ABX9TyOwdyZwtgUlIMlHqo+D0/nw",
      "include_colab_link": true
    },
    "kernelspec": {
      "name": "python3",
      "display_name": "Python 3"
    },
    "language_info": {
      "name": "python"
    }
  },
  "cells": [
    {
      "cell_type": "markdown",
      "metadata": {
        "id": "view-in-github",
        "colab_type": "text"
      },
      "source": [
        "<a href=\"https://colab.research.google.com/github/nisarg0/Assignments/blob/master/DMDW_Asg2(Extern).ipynb\" target=\"_parent\"><img src=\"https://colab.research.google.com/assets/colab-badge.svg\" alt=\"Open In Colab\"/></a>"
      ]
    },
    {
      "cell_type": "code",
      "metadata": {
        "id": "vQBcBWhz29eA"
      },
      "source": [
        "import numpy as np\n",
        "import pandas as pd\n",
        "import matplotlib.pyplot as plt\n",
        "import scipy.stats as stats\n",
        "import seaborn as sns\n",
        "from math import sqrt"
      ],
      "execution_count": 37,
      "outputs": []
    },
    {
      "cell_type": "code",
      "metadata": {
        "id": "w_Lovjr53EhV"
      },
      "source": [
        "path=\"/content/drive/MyDrive/DWDM/house_prices.csv\"\n",
        "df = pd.read_csv(path)"
      ],
      "execution_count": 2,
      "outputs": []
    },
    {
      "cell_type": "code",
      "metadata": {
        "colab": {
          "base_uri": "https://localhost:8080/",
          "height": 224
        },
        "id": "MH8aGPkC6Cu5",
        "outputId": "f7d9d461-0e91-4923-f80a-b1423d1df29a"
      },
      "source": [
        "df.head()"
      ],
      "execution_count": 3,
      "outputs": [
        {
          "output_type": "execute_result",
          "data": {
            "text/html": [
              "<div>\n",
              "<style scoped>\n",
              "    .dataframe tbody tr th:only-of-type {\n",
              "        vertical-align: middle;\n",
              "    }\n",
              "\n",
              "    .dataframe tbody tr th {\n",
              "        vertical-align: top;\n",
              "    }\n",
              "\n",
              "    .dataframe thead th {\n",
              "        text-align: right;\n",
              "    }\n",
              "</style>\n",
              "<table border=\"1\" class=\"dataframe\">\n",
              "  <thead>\n",
              "    <tr style=\"text-align: right;\">\n",
              "      <th></th>\n",
              "      <th>LotFrontage</th>\n",
              "      <th>LotArea</th>\n",
              "      <th>OverallQual</th>\n",
              "      <th>OverallCond</th>\n",
              "      <th>YearBuilt</th>\n",
              "      <th>YearRemodAdd</th>\n",
              "      <th>MasVnrArea</th>\n",
              "      <th>BsmtFinSF1</th>\n",
              "      <th>BsmtFinSF2</th>\n",
              "      <th>BsmtUnfSF</th>\n",
              "      <th>TotalBsmtSF</th>\n",
              "      <th>1stFlrSF</th>\n",
              "      <th>2ndFlrSF</th>\n",
              "      <th>LowQualFinSF</th>\n",
              "      <th>GrLivArea</th>\n",
              "      <th>BsmtFullBath</th>\n",
              "      <th>BsmtHalfBath</th>\n",
              "      <th>FullBath</th>\n",
              "      <th>HalfBath</th>\n",
              "      <th>BedroomAbvGr</th>\n",
              "      <th>KitchenAbvGr</th>\n",
              "      <th>TotRmsAbvGrd</th>\n",
              "      <th>Fireplaces</th>\n",
              "      <th>GarageYrBlt</th>\n",
              "      <th>GarageCars</th>\n",
              "      <th>GarageArea</th>\n",
              "      <th>WoodDeckSF</th>\n",
              "      <th>OpenPorchSF</th>\n",
              "      <th>EnclosedPorch</th>\n",
              "      <th>3SsnPorch</th>\n",
              "      <th>ScreenPorch</th>\n",
              "      <th>PoolArea</th>\n",
              "      <th>MiscVal</th>\n",
              "      <th>YrSold</th>\n",
              "      <th>SalePrice</th>\n",
              "    </tr>\n",
              "  </thead>\n",
              "  <tbody>\n",
              "    <tr>\n",
              "      <th>0</th>\n",
              "      <td>65.0</td>\n",
              "      <td>8450</td>\n",
              "      <td>7</td>\n",
              "      <td>5</td>\n",
              "      <td>2003</td>\n",
              "      <td>2003</td>\n",
              "      <td>196.0</td>\n",
              "      <td>706</td>\n",
              "      <td>0</td>\n",
              "      <td>150</td>\n",
              "      <td>856</td>\n",
              "      <td>856</td>\n",
              "      <td>854</td>\n",
              "      <td>0</td>\n",
              "      <td>1710</td>\n",
              "      <td>1</td>\n",
              "      <td>0</td>\n",
              "      <td>2</td>\n",
              "      <td>1</td>\n",
              "      <td>3</td>\n",
              "      <td>1</td>\n",
              "      <td>8</td>\n",
              "      <td>0</td>\n",
              "      <td>2003.0</td>\n",
              "      <td>2</td>\n",
              "      <td>548</td>\n",
              "      <td>0</td>\n",
              "      <td>61</td>\n",
              "      <td>0</td>\n",
              "      <td>0</td>\n",
              "      <td>0</td>\n",
              "      <td>0</td>\n",
              "      <td>0</td>\n",
              "      <td>2008</td>\n",
              "      <td>208500</td>\n",
              "    </tr>\n",
              "    <tr>\n",
              "      <th>1</th>\n",
              "      <td>80.0</td>\n",
              "      <td>9600</td>\n",
              "      <td>6</td>\n",
              "      <td>8</td>\n",
              "      <td>1976</td>\n",
              "      <td>1976</td>\n",
              "      <td>0.0</td>\n",
              "      <td>978</td>\n",
              "      <td>0</td>\n",
              "      <td>284</td>\n",
              "      <td>1262</td>\n",
              "      <td>1262</td>\n",
              "      <td>0</td>\n",
              "      <td>0</td>\n",
              "      <td>1262</td>\n",
              "      <td>0</td>\n",
              "      <td>1</td>\n",
              "      <td>2</td>\n",
              "      <td>0</td>\n",
              "      <td>3</td>\n",
              "      <td>1</td>\n",
              "      <td>6</td>\n",
              "      <td>1</td>\n",
              "      <td>1976.0</td>\n",
              "      <td>2</td>\n",
              "      <td>460</td>\n",
              "      <td>298</td>\n",
              "      <td>0</td>\n",
              "      <td>0</td>\n",
              "      <td>0</td>\n",
              "      <td>0</td>\n",
              "      <td>0</td>\n",
              "      <td>0</td>\n",
              "      <td>2007</td>\n",
              "      <td>181500</td>\n",
              "    </tr>\n",
              "    <tr>\n",
              "      <th>2</th>\n",
              "      <td>68.0</td>\n",
              "      <td>11250</td>\n",
              "      <td>7</td>\n",
              "      <td>5</td>\n",
              "      <td>2001</td>\n",
              "      <td>2002</td>\n",
              "      <td>162.0</td>\n",
              "      <td>486</td>\n",
              "      <td>0</td>\n",
              "      <td>434</td>\n",
              "      <td>920</td>\n",
              "      <td>920</td>\n",
              "      <td>866</td>\n",
              "      <td>0</td>\n",
              "      <td>1786</td>\n",
              "      <td>1</td>\n",
              "      <td>0</td>\n",
              "      <td>2</td>\n",
              "      <td>1</td>\n",
              "      <td>3</td>\n",
              "      <td>1</td>\n",
              "      <td>6</td>\n",
              "      <td>1</td>\n",
              "      <td>2001.0</td>\n",
              "      <td>2</td>\n",
              "      <td>608</td>\n",
              "      <td>0</td>\n",
              "      <td>42</td>\n",
              "      <td>0</td>\n",
              "      <td>0</td>\n",
              "      <td>0</td>\n",
              "      <td>0</td>\n",
              "      <td>0</td>\n",
              "      <td>2008</td>\n",
              "      <td>223500</td>\n",
              "    </tr>\n",
              "    <tr>\n",
              "      <th>3</th>\n",
              "      <td>60.0</td>\n",
              "      <td>9550</td>\n",
              "      <td>7</td>\n",
              "      <td>5</td>\n",
              "      <td>1915</td>\n",
              "      <td>1970</td>\n",
              "      <td>0.0</td>\n",
              "      <td>216</td>\n",
              "      <td>0</td>\n",
              "      <td>540</td>\n",
              "      <td>756</td>\n",
              "      <td>961</td>\n",
              "      <td>756</td>\n",
              "      <td>0</td>\n",
              "      <td>1717</td>\n",
              "      <td>1</td>\n",
              "      <td>0</td>\n",
              "      <td>1</td>\n",
              "      <td>0</td>\n",
              "      <td>3</td>\n",
              "      <td>1</td>\n",
              "      <td>7</td>\n",
              "      <td>1</td>\n",
              "      <td>1998.0</td>\n",
              "      <td>3</td>\n",
              "      <td>642</td>\n",
              "      <td>0</td>\n",
              "      <td>35</td>\n",
              "      <td>272</td>\n",
              "      <td>0</td>\n",
              "      <td>0</td>\n",
              "      <td>0</td>\n",
              "      <td>0</td>\n",
              "      <td>2006</td>\n",
              "      <td>140000</td>\n",
              "    </tr>\n",
              "    <tr>\n",
              "      <th>4</th>\n",
              "      <td>84.0</td>\n",
              "      <td>14260</td>\n",
              "      <td>8</td>\n",
              "      <td>5</td>\n",
              "      <td>2000</td>\n",
              "      <td>2000</td>\n",
              "      <td>350.0</td>\n",
              "      <td>655</td>\n",
              "      <td>0</td>\n",
              "      <td>490</td>\n",
              "      <td>1145</td>\n",
              "      <td>1145</td>\n",
              "      <td>1053</td>\n",
              "      <td>0</td>\n",
              "      <td>2198</td>\n",
              "      <td>1</td>\n",
              "      <td>0</td>\n",
              "      <td>2</td>\n",
              "      <td>1</td>\n",
              "      <td>4</td>\n",
              "      <td>1</td>\n",
              "      <td>9</td>\n",
              "      <td>1</td>\n",
              "      <td>2000.0</td>\n",
              "      <td>3</td>\n",
              "      <td>836</td>\n",
              "      <td>192</td>\n",
              "      <td>84</td>\n",
              "      <td>0</td>\n",
              "      <td>0</td>\n",
              "      <td>0</td>\n",
              "      <td>0</td>\n",
              "      <td>0</td>\n",
              "      <td>2008</td>\n",
              "      <td>250000</td>\n",
              "    </tr>\n",
              "  </tbody>\n",
              "</table>\n",
              "</div>"
            ],
            "text/plain": [
              "   LotFrontage  LotArea  OverallQual  ...  MiscVal  YrSold  SalePrice\n",
              "0         65.0     8450            7  ...        0    2008     208500\n",
              "1         80.0     9600            6  ...        0    2007     181500\n",
              "2         68.0    11250            7  ...        0    2008     223500\n",
              "3         60.0     9550            7  ...        0    2006     140000\n",
              "4         84.0    14260            8  ...        0    2008     250000\n",
              "\n",
              "[5 rows x 35 columns]"
            ]
          },
          "metadata": {},
          "execution_count": 3
        }
      ]
    },
    {
      "cell_type": "code",
      "metadata": {
        "colab": {
          "base_uri": "https://localhost:8080/"
        },
        "id": "W1xN6bKDBf7H",
        "outputId": "c00c131a-f693-4997-eff0-87a0868264cc"
      },
      "source": [
        "df.isnull().values.any()"
      ],
      "execution_count": 35,
      "outputs": [
        {
          "output_type": "execute_result",
          "data": {
            "text/plain": [
              "False"
            ]
          },
          "metadata": {},
          "execution_count": 35
        }
      ]
    },
    {
      "cell_type": "code",
      "metadata": {
        "colab": {
          "base_uri": "https://localhost:8080/"
        },
        "id": "i4Fx5OVs6OGU",
        "outputId": "7110b3fa-d164-4e1c-fff3-e2e3fbde7714"
      },
      "source": [
        "df.shape"
      ],
      "execution_count": 4,
      "outputs": [
        {
          "output_type": "execute_result",
          "data": {
            "text/plain": [
              "(1379, 35)"
            ]
          },
          "metadata": {},
          "execution_count": 4
        }
      ]
    },
    {
      "cell_type": "code",
      "metadata": {
        "colab": {
          "base_uri": "https://localhost:8080/"
        },
        "id": "dtqXkpJF6iUF",
        "outputId": "4bb45675-e3e8-4852-88e8-098466601c3f"
      },
      "source": [
        "df.info()"
      ],
      "execution_count": 5,
      "outputs": [
        {
          "output_type": "stream",
          "name": "stdout",
          "text": [
            "<class 'pandas.core.frame.DataFrame'>\n",
            "RangeIndex: 1379 entries, 0 to 1378\n",
            "Data columns (total 35 columns):\n",
            " #   Column         Non-Null Count  Dtype  \n",
            "---  ------         --------------  -----  \n",
            " 0   LotFrontage    1379 non-null   float64\n",
            " 1   LotArea        1379 non-null   int64  \n",
            " 2   OverallQual    1379 non-null   int64  \n",
            " 3   OverallCond    1379 non-null   int64  \n",
            " 4   YearBuilt      1379 non-null   int64  \n",
            " 5   YearRemodAdd   1379 non-null   int64  \n",
            " 6   MasVnrArea     1379 non-null   float64\n",
            " 7   BsmtFinSF1     1379 non-null   int64  \n",
            " 8   BsmtFinSF2     1379 non-null   int64  \n",
            " 9   BsmtUnfSF      1379 non-null   int64  \n",
            " 10  TotalBsmtSF    1379 non-null   int64  \n",
            " 11  1stFlrSF       1379 non-null   int64  \n",
            " 12  2ndFlrSF       1379 non-null   int64  \n",
            " 13  LowQualFinSF   1379 non-null   int64  \n",
            " 14  GrLivArea      1379 non-null   int64  \n",
            " 15  BsmtFullBath   1379 non-null   int64  \n",
            " 16  BsmtHalfBath   1379 non-null   int64  \n",
            " 17  FullBath       1379 non-null   int64  \n",
            " 18  HalfBath       1379 non-null   int64  \n",
            " 19  BedroomAbvGr   1379 non-null   int64  \n",
            " 20  KitchenAbvGr   1379 non-null   int64  \n",
            " 21  TotRmsAbvGrd   1379 non-null   int64  \n",
            " 22  Fireplaces     1379 non-null   int64  \n",
            " 23  GarageYrBlt    1379 non-null   float64\n",
            " 24  GarageCars     1379 non-null   int64  \n",
            " 25  GarageArea     1379 non-null   int64  \n",
            " 26  WoodDeckSF     1379 non-null   int64  \n",
            " 27  OpenPorchSF    1379 non-null   int64  \n",
            " 28  EnclosedPorch  1379 non-null   int64  \n",
            " 29  3SsnPorch      1379 non-null   int64  \n",
            " 30  ScreenPorch    1379 non-null   int64  \n",
            " 31  PoolArea       1379 non-null   int64  \n",
            " 32  MiscVal        1379 non-null   int64  \n",
            " 33  YrSold         1379 non-null   int64  \n",
            " 34  SalePrice      1379 non-null   int64  \n",
            "dtypes: float64(3), int64(32)\n",
            "memory usage: 377.2 KB\n"
          ]
        }
      ]
    },
    {
      "cell_type": "code",
      "metadata": {
        "colab": {
          "base_uri": "https://localhost:8080/",
          "height": 385
        },
        "id": "KdrotiU16kid",
        "outputId": "230df201-3dac-4fa6-bb9b-dfdf8a546125"
      },
      "source": [
        "saleprice = df['SalePrice']\n",
        "\n",
        "mean=saleprice.mean()\n",
        "median=saleprice.median()\n",
        "mode=saleprice.mode()\n",
        "\n",
        "print('Mean: ',mean,'\\nMedian: ',median,'\\nMode: ',mode[0])\n",
        "plt.figure(figsize=(10,5))\n",
        "plt.hist(saleprice,bins=100,color='grey')\n",
        "plt.axvline(mean,color='red',label='Mean')\n",
        "plt.axvline(median,color='yellow',label='Median')\n",
        "plt.axvline(mode[0],color='green',label='Mode')\n",
        "plt.xlabel('SalePrice')\n",
        "plt.ylabel('Frequency')\n",
        "plt.legend()\n",
        "plt.show()"
      ],
      "execution_count": 7,
      "outputs": [
        {
          "output_type": "stream",
          "name": "stdout",
          "text": [
            "Mean:  185479.511240029 \n",
            "Median:  167500.0 \n",
            "Mode:  140000\n"
          ]
        },
        {
          "output_type": "display_data",
          "data": {
            "image/png": "[encoded data removed]",
            "text/plain": [
              "<Figure size 720x360 with 1 Axes>"
            ]
          },
          "metadata": {
            "needs_background": "light"
          }
        }
      ]
    },
    {
      "cell_type": "code",
      "metadata": {
        "colab": {
          "base_uri": "https://localhost:8080/"
        },
        "id": "93Zm4DdH6277",
        "outputId": "d9b0bf00-7c2e-4f7f-be2a-81bee4ad62e3"
      },
      "source": [
        "saleprice.cumsum().head()"
      ],
      "execution_count": 8,
      "outputs": [
        {
          "output_type": "execute_result",
          "data": {
            "text/plain": [
              "0     208500\n",
              "1     390000\n",
              "2     613500\n",
              "3     753500\n",
              "4    1003500\n",
              "Name: SalePrice, dtype: int64"
            ]
          },
          "metadata": {},
          "execution_count": 8
        }
      ]
    },
    {
      "cell_type": "code",
      "metadata": {
        "colab": {
          "base_uri": "https://localhost:8080/"
        },
        "id": "irMDOwe664t1",
        "outputId": "c4612116-3afd-4703-ec77-c88f2b243ae8"
      },
      "source": [
        "print(\"Minimum salesprice of a house is : \",saleprice.min()) #maximum value of salePrice\n",
        "print(\"Maximum salesprice of a house is : \",saleprice.min()) #minimum value of salePrice\n",
        "print(\"Range of prices is : \", saleprice.max()-saleprice.min()) #Range\n",
        "print(\"Variance of salesprices is : \",saleprice.var()) #variance"
      ],
      "execution_count": 36,
      "outputs": [
        {
          "output_type": "stream",
          "name": "stdout",
          "text": [
            "Minimum salesprice of a house is :  35311\n",
            "Maximum salesprice of a house is :  35311\n",
            "Range of prices is :  719689\n",
            "Variance of salesprices is :  6244775285.521461\n"
          ]
        }
      ]
    },
    {
      "cell_type": "code",
      "metadata": {
        "colab": {
          "base_uri": "https://localhost:8080/"
        },
        "id": "kCWRPlyD7F_S",
        "outputId": "6e59764b-f3b4-4b82-dd6c-4a5ddd68d9ed"
      },
      "source": [
        "#standard deviation\n",
        "std = sqrt(saleprice.var())\n",
        "std"
      ],
      "execution_count": 13,
      "outputs": [
        {
          "output_type": "execute_result",
          "data": {
            "text/plain": [
              "79023.89059975129"
            ]
          },
          "metadata": {},
          "execution_count": 13
        }
      ]
    },
    {
      "cell_type": "code",
      "metadata": {
        "colab": {
          "base_uri": "https://localhost:8080/"
        },
        "id": "fAXhSbFN7HZZ",
        "outputId": "148497d6-da91-43a0-d3c1-b8faa74ce14a"
      },
      "source": [
        "#skewness\n",
        "saleprice.skew()"
      ],
      "execution_count": 14,
      "outputs": [
        {
          "output_type": "execute_result",
          "data": {
            "text/plain": [
              "1.935362098363132"
            ]
          },
          "metadata": {},
          "execution_count": 14
        }
      ]
    },
    {
      "cell_type": "code",
      "metadata": {
        "colab": {
          "base_uri": "https://localhost:8080/"
        },
        "id": "OAdI8LX37JfC",
        "outputId": "22fa5da7-11ce-480b-da97-e09602a60fb5"
      },
      "source": [
        "#kutosis\n",
        "saleprice.kurt()"
      ],
      "execution_count": 15,
      "outputs": [
        {
          "output_type": "execute_result",
          "data": {
            "text/plain": [
              "6.735649337267559"
            ]
          },
          "metadata": {},
          "execution_count": 15
        }
      ]
    },
    {
      "cell_type": "code",
      "metadata": {
        "colab": {
          "base_uri": "https://localhost:8080/",
          "height": 265
        },
        "id": "kO8y3g757Lr3",
        "outputId": "e231fe91-d2e2-46d5-a7de-62ff4924f6d4"
      },
      "source": [
        "#convert pandas DataFrame object to numpy array and sort\n",
        "h = np.asarray(df['SalePrice'])\n",
        "h = sorted(h)\n",
        " \n",
        "#use the scipy stats module to fit a normal distirbution with same mean and standard deviation\n",
        "fit = stats.norm.pdf(h, np.mean(h), np.std(h)) \n",
        " \n",
        "#plot both series on the histogram\n",
        "# plt.hist(h, density=True, stacked=True)\n",
        "plt.hist(h,bins = 100,label=\"Actual distribution\")      \n",
        "plt.legend()\n",
        "plt.show() "
      ],
      "execution_count": 39,
      "outputs": [
        {
          "output_type": "display_data",
          "data": {
            "image/png": "[encoded data removed]",
            "text/plain": [
              "<Figure size 432x288 with 1 Axes>"
            ]
          },
          "metadata": {
            "needs_background": "light"
          }
        }
      ]
    },
    {
      "cell_type": "code",
      "metadata": {
        "colab": {
          "base_uri": "https://localhost:8080/",
          "height": 286
        },
        "id": "uMGevbrz8dpZ",
        "outputId": "f9f19aeb-d26c-409b-f25c-96ac836d9d24"
      },
      "source": [
        "#checking correlation of 4 countinous variables\n",
        "%matplotlib inline\n",
        "corelation=df[['LotArea','GrLivArea','GarageArea','SalePrice']].corr()\n",
        "corelation\n",
        "\n",
        "sns.heatmap(corelation)"
      ],
      "execution_count": 26,
      "outputs": [
        {
          "output_type": "execute_result",
          "data": {
            "text/plain": [
              "<matplotlib.axes._subplots.AxesSubplot at 0x7ff6212ffd10>"
            ]
          },
          "metadata": {},
          "execution_count": 26
        },
        {
          "output_type": "display_data",
          "data": {
            "image/png": "[encoded data removed]",
            "text/plain": [
              "<Figure size 432x288 with 2 Axes>"
            ]
          },
          "metadata": {
            "needs_background": "light"
          }
        }
      ]
    },
    {
      "cell_type": "code",
      "metadata": {
        "colab": {
          "base_uri": "https://localhost:8080/",
          "height": 173
        },
        "id": "btgniYuM8sO4",
        "outputId": "7379fef2-fec6-4734-d47a-aeb8279b9632"
      },
      "source": [
        "#covariance\n",
        "df[['LotArea','GrLivArea','GarageArea','SalePrice']].cov().head()"
      ],
      "execution_count": 27,
      "outputs": [
        {
          "output_type": "execute_result",
          "data": {
            "text/html": [
              "<div>\n",
              "<style scoped>\n",
              "    .dataframe tbody tr th:only-of-type {\n",
              "        vertical-align: middle;\n",
              "    }\n",
              "\n",
              "    .dataframe tbody tr th {\n",
              "        vertical-align: top;\n",
              "    }\n",
              "\n",
              "    .dataframe thead th {\n",
              "        text-align: right;\n",
              "    }\n",
              "</style>\n",
              "<table border=\"1\" class=\"dataframe\">\n",
              "  <thead>\n",
              "    <tr style=\"text-align: right;\">\n",
              "      <th></th>\n",
              "      <th>LotArea</th>\n",
              "      <th>GrLivArea</th>\n",
              "      <th>GarageArea</th>\n",
              "      <th>SalePrice</th>\n",
              "    </tr>\n",
              "  </thead>\n",
              "  <tbody>\n",
              "    <tr>\n",
              "      <th>LotArea</th>\n",
              "      <td>1.043401e+08</td>\n",
              "      <td>1.364127e+06</td>\n",
              "      <td>3.179236e+05</td>\n",
              "      <td>2.041596e+08</td>\n",
              "    </tr>\n",
              "    <tr>\n",
              "      <th>GrLivArea</th>\n",
              "      <td>1.364127e+06</td>\n",
              "      <td>2.695069e+05</td>\n",
              "      <td>4.615466e+04</td>\n",
              "      <td>2.905241e+07</td>\n",
              "    </tr>\n",
              "    <tr>\n",
              "      <th>GarageArea</th>\n",
              "      <td>3.179236e+05</td>\n",
              "      <td>4.615466e+04</td>\n",
              "      <td>3.447726e+04</td>\n",
              "      <td>8.927251e+06</td>\n",
              "    </tr>\n",
              "    <tr>\n",
              "      <th>SalePrice</th>\n",
              "      <td>2.041596e+08</td>\n",
              "      <td>2.905241e+07</td>\n",
              "      <td>8.927251e+06</td>\n",
              "      <td>6.244775e+09</td>\n",
              "    </tr>\n",
              "  </tbody>\n",
              "</table>\n",
              "</div>"
            ],
            "text/plain": [
              "                 LotArea     GrLivArea    GarageArea     SalePrice\n",
              "LotArea     1.043401e+08  1.364127e+06  3.179236e+05  2.041596e+08\n",
              "GrLivArea   1.364127e+06  2.695069e+05  4.615466e+04  2.905241e+07\n",
              "GarageArea  3.179236e+05  4.615466e+04  3.447726e+04  8.927251e+06\n",
              "SalePrice   2.041596e+08  2.905241e+07  8.927251e+06  6.244775e+09"
            ]
          },
          "metadata": {},
          "execution_count": 27
        }
      ]
    },
    {
      "cell_type": "code",
      "metadata": {
        "colab": {
          "base_uri": "https://localhost:8080/"
        },
        "id": "cY3E6m6o8vbi",
        "outputId": "1c7467a8-6ab1-4b2a-ba4b-31eaaa57886d"
      },
      "source": [
        "# #50 percentile i.e median\n",
        "# np.percentile(df['salary'], 50)\n",
        "\n",
        "saleprice.quantile(0.5)"
      ],
      "execution_count": 28,
      "outputs": [
        {
          "output_type": "execute_result",
          "data": {
            "text/plain": [
              "167500.0"
            ]
          },
          "metadata": {},
          "execution_count": 28
        }
      ]
    },
    {
      "cell_type": "code",
      "metadata": {
        "colab": {
          "base_uri": "https://localhost:8080/"
        },
        "id": "WB8Sh4uQ8xFk",
        "outputId": "59a97c6d-1643-409f-896f-b2073b7255a8"
      },
      "source": [
        "# q75 = np.percentile(df['salary'], 75)\n",
        "# q75\n",
        "\n",
        "q3 = saleprice.quantile(0.75)\n",
        "q3"
      ],
      "execution_count": 29,
      "outputs": [
        {
          "output_type": "execute_result",
          "data": {
            "text/plain": [
              "217750.0"
            ]
          },
          "metadata": {},
          "execution_count": 29
        }
      ]
    },
    {
      "cell_type": "code",
      "metadata": {
        "colab": {
          "base_uri": "https://localhost:8080/"
        },
        "id": "OX-pNPK58ypx",
        "outputId": "a753d1d2-f9cf-488c-9e85-c1d0a2a98079"
      },
      "source": [
        "#25th percentile\n",
        "# q25 = np.percentile(df['salary'], 25)\n",
        "q1 = saleprice.quantile(0.25)\n",
        "q1"
      ],
      "execution_count": 30,
      "outputs": [
        {
          "output_type": "execute_result",
          "data": {
            "text/plain": [
              "134000.0"
            ]
          },
          "metadata": {},
          "execution_count": 30
        }
      ]
    },
    {
      "cell_type": "code",
      "metadata": {
        "colab": {
          "base_uri": "https://localhost:8080/"
        },
        "id": "5nYOTifA8zih",
        "outputId": "dbc087ed-2bf5-4ea8-de09-dfcb394daa53"
      },
      "source": [
        "#interquartile range\n",
        "IQR = q3  - q1\n",
        "IQR"
      ],
      "execution_count": 31,
      "outputs": [
        {
          "output_type": "execute_result",
          "data": {
            "text/plain": [
              "83750.0"
            ]
          },
          "metadata": {},
          "execution_count": 31
        }
      ]
    },
    {
      "cell_type": "code",
      "metadata": {
        "colab": {
          "base_uri": "https://localhost:8080/",
          "height": 265
        },
        "id": "R5HC4ggA813Y",
        "outputId": "0f8d8913-ac4f-466f-e786-be4b5304739e"
      },
      "source": [
        "plt.boxplot(saleprice)\n",
        "plt.show()"
      ],
      "execution_count": 32,
      "outputs": [
        {
          "output_type": "display_data",
          "data": {
            "image/png": "[encoded data removed]",
            "text/plain": [
              "<Figure size 432x288 with 1 Axes>"
            ]
          },
          "metadata": {
            "needs_background": "light"
          }
        }
      ]
    },
    {
      "cell_type": "code",
      "metadata": {
        "colab": {
          "base_uri": "https://localhost:8080/",
          "height": 317
        },
        "id": "yFDZ5yxv83Jl",
        "outputId": "255e099c-f867-46ed-8f04-35f58a186cc6"
      },
      "source": [
        "df.describe()"
      ],
      "execution_count": 33,
      "outputs": [
        {
          "output_type": "execute_result",
          "data": {
            "text/html": [
              "<div>\n",
              "<style scoped>\n",
              "    .dataframe tbody tr th:only-of-type {\n",
              "        vertical-align: middle;\n",
              "    }\n",
              "\n",
              "    .dataframe tbody tr th {\n",
              "        vertical-align: top;\n",
              "    }\n",
              "\n",
              "    .dataframe thead th {\n",
              "        text-align: right;\n",
              "    }\n",
              "</style>\n",
              "<table border=\"1\" class=\"dataframe\">\n",
              "  <thead>\n",
              "    <tr style=\"text-align: right;\">\n",
              "      <th></th>\n",
              "      <th>LotFrontage</th>\n",
              "      <th>LotArea</th>\n",
              "      <th>OverallQual</th>\n",
              "      <th>OverallCond</th>\n",
              "      <th>YearBuilt</th>\n",
              "      <th>YearRemodAdd</th>\n",
              "      <th>MasVnrArea</th>\n",
              "      <th>BsmtFinSF1</th>\n",
              "      <th>BsmtFinSF2</th>\n",
              "      <th>BsmtUnfSF</th>\n",
              "      <th>TotalBsmtSF</th>\n",
              "      <th>1stFlrSF</th>\n",
              "      <th>2ndFlrSF</th>\n",
              "      <th>LowQualFinSF</th>\n",
              "      <th>GrLivArea</th>\n",
              "      <th>BsmtFullBath</th>\n",
              "      <th>BsmtHalfBath</th>\n",
              "      <th>FullBath</th>\n",
              "      <th>HalfBath</th>\n",
              "      <th>BedroomAbvGr</th>\n",
              "      <th>KitchenAbvGr</th>\n",
              "      <th>TotRmsAbvGrd</th>\n",
              "      <th>Fireplaces</th>\n",
              "      <th>GarageYrBlt</th>\n",
              "      <th>GarageCars</th>\n",
              "      <th>GarageArea</th>\n",
              "      <th>WoodDeckSF</th>\n",
              "      <th>OpenPorchSF</th>\n",
              "      <th>EnclosedPorch</th>\n",
              "      <th>3SsnPorch</th>\n",
              "      <th>ScreenPorch</th>\n",
              "      <th>PoolArea</th>\n",
              "      <th>MiscVal</th>\n",
              "      <th>YrSold</th>\n",
              "      <th>SalePrice</th>\n",
              "    </tr>\n",
              "  </thead>\n",
              "  <tbody>\n",
              "    <tr>\n",
              "      <th>count</th>\n",
              "      <td>1379.000000</td>\n",
              "      <td>1379.000000</td>\n",
              "      <td>1379.000000</td>\n",
              "      <td>1379.000000</td>\n",
              "      <td>1379.000000</td>\n",
              "      <td>1379.000000</td>\n",
              "      <td>1379.000000</td>\n",
              "      <td>1379.000000</td>\n",
              "      <td>1379.000000</td>\n",
              "      <td>1379.000000</td>\n",
              "      <td>1379.000000</td>\n",
              "      <td>1379.000000</td>\n",
              "      <td>1379.000000</td>\n",
              "      <td>1379.000000</td>\n",
              "      <td>1379.000000</td>\n",
              "      <td>1379.000000</td>\n",
              "      <td>1379.000000</td>\n",
              "      <td>1379.000000</td>\n",
              "      <td>1379.000000</td>\n",
              "      <td>1379.000000</td>\n",
              "      <td>1379.000000</td>\n",
              "      <td>1379.000000</td>\n",
              "      <td>1379.000000</td>\n",
              "      <td>1379.000000</td>\n",
              "      <td>1379.000000</td>\n",
              "      <td>1379.000000</td>\n",
              "      <td>1379.000000</td>\n",
              "      <td>1379.000000</td>\n",
              "      <td>1379.000000</td>\n",
              "      <td>1379.000000</td>\n",
              "      <td>1379.000000</td>\n",
              "      <td>1379.000000</td>\n",
              "      <td>1379.000000</td>\n",
              "      <td>1379.000000</td>\n",
              "      <td>1379.00000</td>\n",
              "    </tr>\n",
              "    <tr>\n",
              "      <th>mean</th>\n",
              "      <td>57.766497</td>\n",
              "      <td>10695.812183</td>\n",
              "      <td>6.187092</td>\n",
              "      <td>5.577955</td>\n",
              "      <td>1972.958666</td>\n",
              "      <td>1985.435098</td>\n",
              "      <td>108.364757</td>\n",
              "      <td>455.578680</td>\n",
              "      <td>48.102248</td>\n",
              "      <td>570.765047</td>\n",
              "      <td>1074.445975</td>\n",
              "      <td>1177.129804</td>\n",
              "      <td>353.424946</td>\n",
              "      <td>4.134880</td>\n",
              "      <td>1534.689630</td>\n",
              "      <td>0.430747</td>\n",
              "      <td>0.058738</td>\n",
              "      <td>1.580131</td>\n",
              "      <td>0.395939</td>\n",
              "      <td>2.865120</td>\n",
              "      <td>1.038434</td>\n",
              "      <td>6.552574</td>\n",
              "      <td>0.641769</td>\n",
              "      <td>1978.506164</td>\n",
              "      <td>1.870921</td>\n",
              "      <td>500.762146</td>\n",
              "      <td>97.456853</td>\n",
              "      <td>47.276287</td>\n",
              "      <td>21.039159</td>\n",
              "      <td>3.609862</td>\n",
              "      <td>15.945613</td>\n",
              "      <td>2.920957</td>\n",
              "      <td>42.889050</td>\n",
              "      <td>2007.812183</td>\n",
              "      <td>185479.51124</td>\n",
              "    </tr>\n",
              "    <tr>\n",
              "      <th>std</th>\n",
              "      <td>35.038221</td>\n",
              "      <td>10214.702133</td>\n",
              "      <td>1.345780</td>\n",
              "      <td>1.081031</td>\n",
              "      <td>29.379883</td>\n",
              "      <td>20.444852</td>\n",
              "      <td>184.195220</td>\n",
              "      <td>459.691379</td>\n",
              "      <td>164.324665</td>\n",
              "      <td>443.677845</td>\n",
              "      <td>436.371874</td>\n",
              "      <td>387.014961</td>\n",
              "      <td>439.553171</td>\n",
              "      <td>40.130546</td>\n",
              "      <td>519.140514</td>\n",
              "      <td>0.514052</td>\n",
              "      <td>0.238285</td>\n",
              "      <td>0.548051</td>\n",
              "      <td>0.502402</td>\n",
              "      <td>0.783961</td>\n",
              "      <td>0.196048</td>\n",
              "      <td>1.589821</td>\n",
              "      <td>0.645985</td>\n",
              "      <td>24.689725</td>\n",
              "      <td>0.630055</td>\n",
              "      <td>185.680520</td>\n",
              "      <td>126.699192</td>\n",
              "      <td>65.210465</td>\n",
              "      <td>60.535107</td>\n",
              "      <td>30.154682</td>\n",
              "      <td>57.249593</td>\n",
              "      <td>41.335545</td>\n",
              "      <td>501.613931</td>\n",
              "      <td>1.330221</td>\n",
              "      <td>79023.89060</td>\n",
              "    </tr>\n",
              "    <tr>\n",
              "      <th>min</th>\n",
              "      <td>0.000000</td>\n",
              "      <td>1300.000000</td>\n",
              "      <td>2.000000</td>\n",
              "      <td>2.000000</td>\n",
              "      <td>1880.000000</td>\n",
              "      <td>1950.000000</td>\n",
              "      <td>0.000000</td>\n",
              "      <td>0.000000</td>\n",
              "      <td>0.000000</td>\n",
              "      <td>0.000000</td>\n",
              "      <td>0.000000</td>\n",
              "      <td>438.000000</td>\n",
              "      <td>0.000000</td>\n",
              "      <td>0.000000</td>\n",
              "      <td>438.000000</td>\n",
              "      <td>0.000000</td>\n",
              "      <td>0.000000</td>\n",
              "      <td>0.000000</td>\n",
              "      <td>0.000000</td>\n",
              "      <td>0.000000</td>\n",
              "      <td>1.000000</td>\n",
              "      <td>3.000000</td>\n",
              "      <td>0.000000</td>\n",
              "      <td>1900.000000</td>\n",
              "      <td>1.000000</td>\n",
              "      <td>160.000000</td>\n",
              "      <td>0.000000</td>\n",
              "      <td>0.000000</td>\n",
              "      <td>0.000000</td>\n",
              "      <td>0.000000</td>\n",
              "      <td>0.000000</td>\n",
              "      <td>0.000000</td>\n",
              "      <td>0.000000</td>\n",
              "      <td>2006.000000</td>\n",
              "      <td>35311.00000</td>\n",
              "    </tr>\n",
              "    <tr>\n",
              "      <th>25%</th>\n",
              "      <td>41.500000</td>\n",
              "      <td>7741.000000</td>\n",
              "      <td>5.000000</td>\n",
              "      <td>5.000000</td>\n",
              "      <td>1955.000000</td>\n",
              "      <td>1968.000000</td>\n",
              "      <td>0.000000</td>\n",
              "      <td>0.000000</td>\n",
              "      <td>0.000000</td>\n",
              "      <td>228.000000</td>\n",
              "      <td>810.000000</td>\n",
              "      <td>894.000000</td>\n",
              "      <td>0.000000</td>\n",
              "      <td>0.000000</td>\n",
              "      <td>1154.000000</td>\n",
              "      <td>0.000000</td>\n",
              "      <td>0.000000</td>\n",
              "      <td>1.000000</td>\n",
              "      <td>0.000000</td>\n",
              "      <td>2.000000</td>\n",
              "      <td>1.000000</td>\n",
              "      <td>5.000000</td>\n",
              "      <td>0.000000</td>\n",
              "      <td>1961.000000</td>\n",
              "      <td>1.000000</td>\n",
              "      <td>380.000000</td>\n",
              "      <td>0.000000</td>\n",
              "      <td>0.000000</td>\n",
              "      <td>0.000000</td>\n",
              "      <td>0.000000</td>\n",
              "      <td>0.000000</td>\n",
              "      <td>0.000000</td>\n",
              "      <td>0.000000</td>\n",
              "      <td>2007.000000</td>\n",
              "      <td>134000.00000</td>\n",
              "    </tr>\n",
              "    <tr>\n",
              "      <th>50%</th>\n",
              "      <td>64.000000</td>\n",
              "      <td>9591.000000</td>\n",
              "      <td>6.000000</td>\n",
              "      <td>5.000000</td>\n",
              "      <td>1976.000000</td>\n",
              "      <td>1994.000000</td>\n",
              "      <td>0.000000</td>\n",
              "      <td>400.000000</td>\n",
              "      <td>0.000000</td>\n",
              "      <td>476.000000</td>\n",
              "      <td>1008.000000</td>\n",
              "      <td>1098.000000</td>\n",
              "      <td>0.000000</td>\n",
              "      <td>0.000000</td>\n",
              "      <td>1479.000000</td>\n",
              "      <td>0.000000</td>\n",
              "      <td>0.000000</td>\n",
              "      <td>2.000000</td>\n",
              "      <td>0.000000</td>\n",
              "      <td>3.000000</td>\n",
              "      <td>1.000000</td>\n",
              "      <td>6.000000</td>\n",
              "      <td>1.000000</td>\n",
              "      <td>1980.000000</td>\n",
              "      <td>2.000000</td>\n",
              "      <td>484.000000</td>\n",
              "      <td>0.000000</td>\n",
              "      <td>27.000000</td>\n",
              "      <td>0.000000</td>\n",
              "      <td>0.000000</td>\n",
              "      <td>0.000000</td>\n",
              "      <td>0.000000</td>\n",
              "      <td>0.000000</td>\n",
              "      <td>2008.000000</td>\n",
              "      <td>167500.00000</td>\n",
              "    </tr>\n",
              "    <tr>\n",
              "      <th>75%</th>\n",
              "      <td>79.000000</td>\n",
              "      <td>11708.500000</td>\n",
              "      <td>7.000000</td>\n",
              "      <td>6.000000</td>\n",
              "      <td>2001.000000</td>\n",
              "      <td>2004.000000</td>\n",
              "      <td>170.500000</td>\n",
              "      <td>732.000000</td>\n",
              "      <td>0.000000</td>\n",
              "      <td>811.000000</td>\n",
              "      <td>1314.000000</td>\n",
              "      <td>1414.000000</td>\n",
              "      <td>738.500000</td>\n",
              "      <td>0.000000</td>\n",
              "      <td>1790.000000</td>\n",
              "      <td>1.000000</td>\n",
              "      <td>0.000000</td>\n",
              "      <td>2.000000</td>\n",
              "      <td>1.000000</td>\n",
              "      <td>3.000000</td>\n",
              "      <td>1.000000</td>\n",
              "      <td>7.000000</td>\n",
              "      <td>1.000000</td>\n",
              "      <td>2002.000000</td>\n",
              "      <td>2.000000</td>\n",
              "      <td>580.000000</td>\n",
              "      <td>171.000000</td>\n",
              "      <td>69.500000</td>\n",
              "      <td>0.000000</td>\n",
              "      <td>0.000000</td>\n",
              "      <td>0.000000</td>\n",
              "      <td>0.000000</td>\n",
              "      <td>0.000000</td>\n",
              "      <td>2009.000000</td>\n",
              "      <td>217750.00000</td>\n",
              "    </tr>\n",
              "    <tr>\n",
              "      <th>max</th>\n",
              "      <td>313.000000</td>\n",
              "      <td>215245.000000</td>\n",
              "      <td>10.000000</td>\n",
              "      <td>9.000000</td>\n",
              "      <td>2010.000000</td>\n",
              "      <td>2010.000000</td>\n",
              "      <td>1600.000000</td>\n",
              "      <td>5644.000000</td>\n",
              "      <td>1474.000000</td>\n",
              "      <td>2336.000000</td>\n",
              "      <td>6110.000000</td>\n",
              "      <td>4692.000000</td>\n",
              "      <td>2065.000000</td>\n",
              "      <td>572.000000</td>\n",
              "      <td>5642.000000</td>\n",
              "      <td>2.000000</td>\n",
              "      <td>2.000000</td>\n",
              "      <td>3.000000</td>\n",
              "      <td>2.000000</td>\n",
              "      <td>6.000000</td>\n",
              "      <td>3.000000</td>\n",
              "      <td>12.000000</td>\n",
              "      <td>3.000000</td>\n",
              "      <td>2010.000000</td>\n",
              "      <td>4.000000</td>\n",
              "      <td>1418.000000</td>\n",
              "      <td>857.000000</td>\n",
              "      <td>547.000000</td>\n",
              "      <td>552.000000</td>\n",
              "      <td>508.000000</td>\n",
              "      <td>480.000000</td>\n",
              "      <td>738.000000</td>\n",
              "      <td>15500.000000</td>\n",
              "      <td>2010.000000</td>\n",
              "      <td>755000.00000</td>\n",
              "    </tr>\n",
              "  </tbody>\n",
              "</table>\n",
              "</div>"
            ],
            "text/plain": [
              "       LotFrontage        LotArea  ...       YrSold     SalePrice\n",
              "count  1379.000000    1379.000000  ...  1379.000000    1379.00000\n",
              "mean     57.766497   10695.812183  ...  2007.812183  185479.51124\n",
              "std      35.038221   10214.702133  ...     1.330221   79023.89060\n",
              "min       0.000000    1300.000000  ...  2006.000000   35311.00000\n",
              "25%      41.500000    7741.000000  ...  2007.000000  134000.00000\n",
              "50%      64.000000    9591.000000  ...  2008.000000  167500.00000\n",
              "75%      79.000000   11708.500000  ...  2009.000000  217750.00000\n",
              "max     313.000000  215245.000000  ...  2010.000000  755000.00000\n",
              "\n",
              "[8 rows x 35 columns]"
            ]
          },
          "metadata": {},
          "execution_count": 33
        }
      ]
    }
  ]
}