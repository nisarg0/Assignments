{
  "nbformat": 4,
  "nbformat_minor": 0,
  "metadata": {
    "colab": {
      "name": "DWDM1.ipynb",
      "provenance": [],
      "collapsed_sections": [],
      "mount_file_id": "1J0rTfw2PUufqxy9_t189OUCwvxcZjUV4",
      "authorship_tag": "ABX9TyNUWZBRjE7FerYAwxzwtuKe",
      "include_colab_link": true
    },
    "kernelspec": {
      "name": "python3",
      "display_name": "Python 3"
    },
    "language_info": {
      "name": "python"
    }
  },
  "cells": [
    {
      "cell_type": "markdown",
      "metadata": {
        "id": "view-in-github",
        "colab_type": "text"
      },
      "source": [
        "<a href=\"https://colab.research.google.com/github/nisarg0/Assignments/blob/master/DWDM1.ipynb\" target=\"_parent\"><img src=\"https://colab.research.google.com/assets/colab-badge.svg\" alt=\"Open In Colab\"/></a>"
      ]
    },
    {
      "cell_type": "markdown",
      "metadata": {
        "id": "cozeEgDcpbAP"
      },
      "source": [
        "\n",
        "*   The Dataset I have chosen is of 120 years of olympics.\n",
        "*   The Dataset is Catagorical as well as numerical.\n",
        "https://www.kaggle.com/heesoo37/120-years-of-olympic-history-athletes-and-results\n",
        "*   Used various python libararies like numpy, pandas, matplot, sklearn, sympy, scipy for better understanding.\n",
        "\n",
        "\n",
        "\n",
        "\n",
        "\n",
        "\n",
        "\n",
        "\n",
        "\n"
      ]
    },
    {
      "cell_type": "code",
      "metadata": {
        "id": "_0Ly3W4Cnfy0"
      },
      "source": [
        "import pandas as pd\n",
        "import numpy as np\n",
        "import matplotlib.pyplot as plt\n",
        "\n",
        "import sklearn\n",
        "\n",
        "# scipy imports\n",
        "from scipy import constants\n",
        "from scipy.sparse import csr_matrix\n",
        "\n",
        "# sympy imports\n",
        "from sympy import solveset, S\n",
        "from sympy.abc import x\n",
        "from sympy import SymmetricDifference \n"
      ],
      "execution_count": 55,
      "outputs": []
    },
    {
      "cell_type": "code",
      "metadata": {
        "id": "eDQfT3zf05Hi"
      },
      "source": [
        "data = pd.read_csv('/content/drive/MyDrive/Olympics/athlete_events.csv',sep=',')\n",
        "df = pd.DataFrame(data)"
      ],
      "execution_count": 56,
      "outputs": []
    },
    {
      "cell_type": "markdown",
      "metadata": {
        "id": "POR9CyTuZPSy"
      },
      "source": [
        "Few functions of Pandas library "
      ]
    },
    {
      "cell_type": "code",
      "metadata": {
        "id": "VuEHO2jn012T",
        "colab": {
          "base_uri": "https://localhost:8080/"
        },
        "outputId": "82c0da10-ee27-4467-98c8-9b4cdb5356af"
      },
      "source": [
        "# Dimensions of Dataset\n",
        "print(\"Shape of The DataFrame is\",df.shape)\n",
        "print(\"-----------------------------------------------\")\n",
        "print (\"Maximum age ever of an Olympian is \",df.Age.max())\n",
        "print (\"Minimum age ever of an Olympian is \",df.Age.min())\n",
        "print(\"-----------------------------------------------\")\n",
        "print (\"Average age of an olympian is\", df.Age.mean())\n",
        "print(\"-----------------------------------------------\")\n",
        "print (\"Median of all Olympians is: \\n\",df.median(axis = 0));\n",
        "print(\"-----------------------------------------------\")\n",
        "\n"
      ],
      "execution_count": 57,
      "outputs": [
        {
          "output_type": "stream",
          "name": "stdout",
          "text": [
            "Shape of The DataFrame is (271116, 15)\n",
            "-----------------------------------------------\n",
            "Maximum age ever of an Olympian is  97.0\n",
            "Minimum age ever of an Olympian is  10.0\n",
            "-----------------------------------------------\n",
            "Average age of an olympian is 25.556898357297374\n",
            "-----------------------------------------------\n",
            "Median of all Olympians is: \n",
            " ID        68205.0\n",
            "Age          24.0\n",
            "Height      175.0\n",
            "Weight       70.0\n",
            "Year       1988.0\n",
            "dtype: float64\n",
            "-----------------------------------------------\n"
          ]
        }
      ]
    },
    {
      "cell_type": "markdown",
      "metadata": {
        "id": "HRWHpTGntV7T"
      },
      "source": [
        "Few functions of Numpy library and Scipy"
      ]
    },
    {
      "cell_type": "code",
      "metadata": {
        "id": "nA0y8skptVbV",
        "colab": {
          "base_uri": "https://localhost:8080/"
        },
        "outputId": "89045e6b-96e7-411c-8e5b-24d7f68694e6"
      },
      "source": [
        "# Calculating total number of countries who participated in Olympics\n",
        "arr = np.array(df['NOC'].values)\n",
        "arr = np.unique(arr)\n",
        "print(\"The Total number of Participant countries in olympics = \", len(arr))\n",
        "for ele in arr:\n",
        "    print(ele,end = \" \")\n",
        "print(\"\\n-----------------------------------------------\")\n",
        "\n",
        "\n",
        "#Calculating average BMI of athletes\n",
        "height = np.array(df['Height'].values)\n",
        "weight = np.array(df['Weight'].values)\n",
        "\n",
        "# Used scipy for convertion of centimeter to meter\n",
        "BMI = weight/((height*height)*(constants.centi)*(constants.centi))\n",
        "# Not using Nan values \n",
        "print(\" Average BMI of an Olympian is = \",np.nanmean(BMI))\n",
        "print(\"-----------------------------------------------\")\n",
        "\n",
        "# Compressed Sparse Row. For fast row slicing, faster matrix vector products\n",
        "# Item in row 0 and postition x has value y\n",
        "print(csr_matrix(height))"
      ],
      "execution_count": 58,
      "outputs": [
        {
          "output_type": "stream",
          "name": "stdout",
          "text": [
            "The Total number of Participant countries in olympics =  230\n",
            "AFG AHO ALB ALG AND ANG ANT ANZ ARG ARM ARU ASA AUS AUT AZE BAH BAN BAR BDI BEL BEN BER BHU BIH BIZ BLR BOH BOL BOT BRA BRN BRU BUL BUR CAF CAM CAN CAY CGO CHA CHI CHN CIV CMR COD COK COL COM CPV CRC CRO CRT CUB CYP CZE DEN DJI DMA DOM ECU EGY ERI ESA ESP EST ETH EUN FIJ FIN FRA FRG FSM GAB GAM GBR GBS GDR GEO GEQ GER GHA GRE GRN GUA GUI GUM GUY HAI HKG HON HUN INA IND IOA IRI IRL IRQ ISL ISR ISV ITA IVB JAM JOR JPN KAZ KEN KGZ KIR KOR KOS KSA KUW LAO LAT LBA LBR LCA LES LIB LIE LTU LUX MAD MAL MAR MAS MAW MDA MDV MEX MGL MHL MKD MLI MLT MNE MON MOZ MRI MTN MYA NAM NBO NCA NED NEP NFL NGR NIG NOR NRU NZL OMA PAK PAN PAR PER PHI PLE PLW PNG POL POR PRK PUR QAT RHO ROT ROU RSA RUS RWA SAA SAM SCG SEN SEY SGP SKN SLE SLO SMR SOL SOM SRB SRI SSD STP SUD SUI SUR SVK SWE SWZ SYR TAN TCH TGA THA TJK TKM TLS TOG TPE TTO TUN TUR TUV UAE UAR UGA UKR UNK URS URU USA UZB VAN VEN VIE VIN VNM WIF YAR YEM YMD YUG ZAM ZIM \n",
            "-----------------------------------------------\n",
            " Average BMI of an Olympian is =  22.784519726470883\n",
            "-----------------------------------------------\n",
            "  (0, 0)\t180.0\n",
            "  (0, 1)\t170.0\n",
            "  (0, 2)\tnan\n",
            "  (0, 3)\tnan\n",
            "  (0, 4)\t185.0\n",
            "  (0, 5)\t185.0\n",
            "  (0, 6)\t185.0\n",
            "  (0, 7)\t185.0\n",
            "  (0, 8)\t185.0\n",
            "  (0, 9)\t185.0\n",
            "  (0, 10)\t188.0\n",
            "  (0, 11)\t188.0\n",
            "  (0, 12)\t188.0\n",
            "  (0, 13)\t188.0\n",
            "  (0, 14)\t188.0\n",
            "  (0, 15)\t188.0\n",
            "  (0, 16)\t188.0\n",
            "  (0, 17)\t188.0\n",
            "  (0, 18)\t183.0\n",
            "  (0, 19)\t183.0\n",
            "  (0, 20)\t183.0\n",
            "  (0, 21)\t183.0\n",
            "  (0, 22)\t183.0\n",
            "  (0, 23)\t183.0\n",
            "  (0, 24)\t183.0\n",
            "  :\t:\n",
            "  (0, 271091)\t200.0\n",
            "  (0, 271092)\t182.0\n",
            "  (0, 271093)\t182.0\n",
            "  (0, 271094)\t182.0\n",
            "  (0, 271095)\t182.0\n",
            "  (0, 271096)\t182.0\n",
            "  (0, 271097)\t182.0\n",
            "  (0, 271098)\t182.0\n",
            "  (0, 271099)\t171.0\n",
            "  (0, 271100)\tnan\n",
            "  (0, 271101)\t173.0\n",
            "  (0, 271102)\t171.0\n",
            "  (0, 271103)\t171.0\n",
            "  (0, 271104)\t172.0\n",
            "  (0, 271105)\t168.0\n",
            "  (0, 271106)\t168.0\n",
            "  (0, 271107)\t175.0\n",
            "  (0, 271108)\t183.0\n",
            "  (0, 271109)\t183.0\n",
            "  (0, 271110)\t171.0\n",
            "  (0, 271111)\t179.0\n",
            "  (0, 271112)\t176.0\n",
            "  (0, 271113)\t176.0\n",
            "  (0, 271114)\t185.0\n",
            "  (0, 271115)\t185.0\n"
          ]
        }
      ]
    },
    {
      "cell_type": "code",
      "metadata": {
        "id": "H0cAutSfxajc",
        "colab": {
          "base_uri": "https://localhost:8080/",
          "height": 289
        },
        "outputId": "3b3d04e8-6f7a-47e3-d01b-174c5471a684"
      },
      "source": [
        "# print top 5 rows\n",
        "data.head()"
      ],
      "execution_count": 59,
      "outputs": [
        {
          "output_type": "execute_result",
          "data": {
            "text/html": [
              "<div>\n",
              "<style scoped>\n",
              "    .dataframe tbody tr th:only-of-type {\n",
              "        vertical-align: middle;\n",
              "    }\n",
              "\n",
              "    .dataframe tbody tr th {\n",
              "        vertical-align: top;\n",
              "    }\n",
              "\n",
              "    .dataframe thead th {\n",
              "        text-align: right;\n",
              "    }\n",
              "</style>\n",
              "<table border=\"1\" class=\"dataframe\">\n",
              "  <thead>\n",
              "    <tr style=\"text-align: right;\">\n",
              "      <th></th>\n",
              "      <th>ID</th>\n",
              "      <th>Name</th>\n",
              "      <th>Sex</th>\n",
              "      <th>Age</th>\n",
              "      <th>Height</th>\n",
              "      <th>Weight</th>\n",
              "      <th>Team</th>\n",
              "      <th>NOC</th>\n",
              "      <th>Games</th>\n",
              "      <th>Year</th>\n",
              "      <th>Season</th>\n",
              "      <th>City</th>\n",
              "      <th>Sport</th>\n",
              "      <th>Event</th>\n",
              "      <th>Medal</th>\n",
              "    </tr>\n",
              "  </thead>\n",
              "  <tbody>\n",
              "    <tr>\n",
              "      <th>0</th>\n",
              "      <td>1</td>\n",
              "      <td>A Dijiang</td>\n",
              "      <td>M</td>\n",
              "      <td>24.0</td>\n",
              "      <td>180.0</td>\n",
              "      <td>80.0</td>\n",
              "      <td>China</td>\n",
              "      <td>CHN</td>\n",
              "      <td>1992 Summer</td>\n",
              "      <td>1992</td>\n",
              "      <td>Summer</td>\n",
              "      <td>Barcelona</td>\n",
              "      <td>Basketball</td>\n",
              "      <td>Basketball Men's Basketball</td>\n",
              "      <td>NaN</td>\n",
              "    </tr>\n",
              "    <tr>\n",
              "      <th>1</th>\n",
              "      <td>2</td>\n",
              "      <td>A Lamusi</td>\n",
              "      <td>M</td>\n",
              "      <td>23.0</td>\n",
              "      <td>170.0</td>\n",
              "      <td>60.0</td>\n",
              "      <td>China</td>\n",
              "      <td>CHN</td>\n",
              "      <td>2012 Summer</td>\n",
              "      <td>2012</td>\n",
              "      <td>Summer</td>\n",
              "      <td>London</td>\n",
              "      <td>Judo</td>\n",
              "      <td>Judo Men's Extra-Lightweight</td>\n",
              "      <td>NaN</td>\n",
              "    </tr>\n",
              "    <tr>\n",
              "      <th>2</th>\n",
              "      <td>3</td>\n",
              "      <td>Gunnar Nielsen Aaby</td>\n",
              "      <td>M</td>\n",
              "      <td>24.0</td>\n",
              "      <td>NaN</td>\n",
              "      <td>NaN</td>\n",
              "      <td>Denmark</td>\n",
              "      <td>DEN</td>\n",
              "      <td>1920 Summer</td>\n",
              "      <td>1920</td>\n",
              "      <td>Summer</td>\n",
              "      <td>Antwerpen</td>\n",
              "      <td>Football</td>\n",
              "      <td>Football Men's Football</td>\n",
              "      <td>NaN</td>\n",
              "    </tr>\n",
              "    <tr>\n",
              "      <th>3</th>\n",
              "      <td>4</td>\n",
              "      <td>Edgar Lindenau Aabye</td>\n",
              "      <td>M</td>\n",
              "      <td>34.0</td>\n",
              "      <td>NaN</td>\n",
              "      <td>NaN</td>\n",
              "      <td>Denmark/Sweden</td>\n",
              "      <td>DEN</td>\n",
              "      <td>1900 Summer</td>\n",
              "      <td>1900</td>\n",
              "      <td>Summer</td>\n",
              "      <td>Paris</td>\n",
              "      <td>Tug-Of-War</td>\n",
              "      <td>Tug-Of-War Men's Tug-Of-War</td>\n",
              "      <td>Gold</td>\n",
              "    </tr>\n",
              "    <tr>\n",
              "      <th>4</th>\n",
              "      <td>5</td>\n",
              "      <td>Christine Jacoba Aaftink</td>\n",
              "      <td>F</td>\n",
              "      <td>21.0</td>\n",
              "      <td>185.0</td>\n",
              "      <td>82.0</td>\n",
              "      <td>Netherlands</td>\n",
              "      <td>NED</td>\n",
              "      <td>1988 Winter</td>\n",
              "      <td>1988</td>\n",
              "      <td>Winter</td>\n",
              "      <td>Calgary</td>\n",
              "      <td>Speed Skating</td>\n",
              "      <td>Speed Skating Women's 500 metres</td>\n",
              "      <td>NaN</td>\n",
              "    </tr>\n",
              "  </tbody>\n",
              "</table>\n",
              "</div>"
            ],
            "text/plain": [
              "   ID                      Name  ...                             Event  Medal\n",
              "0   1                 A Dijiang  ...       Basketball Men's Basketball    NaN\n",
              "1   2                  A Lamusi  ...      Judo Men's Extra-Lightweight    NaN\n",
              "2   3       Gunnar Nielsen Aaby  ...           Football Men's Football    NaN\n",
              "3   4      Edgar Lindenau Aabye  ...       Tug-Of-War Men's Tug-Of-War   Gold\n",
              "4   5  Christine Jacoba Aaftink  ...  Speed Skating Women's 500 metres    NaN\n",
              "\n",
              "[5 rows x 15 columns]"
            ]
          },
          "metadata": {},
          "execution_count": 59
        }
      ]
    },
    {
      "cell_type": "code",
      "metadata": {
        "id": "M9I1LRq6yDui",
        "colab": {
          "base_uri": "https://localhost:8080/",
          "height": 289
        },
        "outputId": "07b0a4ef-df6b-4e1e-f5b6-b272b351977a"
      },
      "source": [
        "# print bottom 5 rows\n",
        "data.tail()"
      ],
      "execution_count": 60,
      "outputs": [
        {
          "output_type": "execute_result",
          "data": {
            "text/html": [
              "<div>\n",
              "<style scoped>\n",
              "    .dataframe tbody tr th:only-of-type {\n",
              "        vertical-align: middle;\n",
              "    }\n",
              "\n",
              "    .dataframe tbody tr th {\n",
              "        vertical-align: top;\n",
              "    }\n",
              "\n",
              "    .dataframe thead th {\n",
              "        text-align: right;\n",
              "    }\n",
              "</style>\n",
              "<table border=\"1\" class=\"dataframe\">\n",
              "  <thead>\n",
              "    <tr style=\"text-align: right;\">\n",
              "      <th></th>\n",
              "      <th>ID</th>\n",
              "      <th>Name</th>\n",
              "      <th>Sex</th>\n",
              "      <th>Age</th>\n",
              "      <th>Height</th>\n",
              "      <th>Weight</th>\n",
              "      <th>Team</th>\n",
              "      <th>NOC</th>\n",
              "      <th>Games</th>\n",
              "      <th>Year</th>\n",
              "      <th>Season</th>\n",
              "      <th>City</th>\n",
              "      <th>Sport</th>\n",
              "      <th>Event</th>\n",
              "      <th>Medal</th>\n",
              "    </tr>\n",
              "  </thead>\n",
              "  <tbody>\n",
              "    <tr>\n",
              "      <th>271111</th>\n",
              "      <td>135569</td>\n",
              "      <td>Andrzej ya</td>\n",
              "      <td>M</td>\n",
              "      <td>29.0</td>\n",
              "      <td>179.0</td>\n",
              "      <td>89.0</td>\n",
              "      <td>Poland-1</td>\n",
              "      <td>POL</td>\n",
              "      <td>1976 Winter</td>\n",
              "      <td>1976</td>\n",
              "      <td>Winter</td>\n",
              "      <td>Innsbruck</td>\n",
              "      <td>Luge</td>\n",
              "      <td>Luge Mixed (Men)'s Doubles</td>\n",
              "      <td>NaN</td>\n",
              "    </tr>\n",
              "    <tr>\n",
              "      <th>271112</th>\n",
              "      <td>135570</td>\n",
              "      <td>Piotr ya</td>\n",
              "      <td>M</td>\n",
              "      <td>27.0</td>\n",
              "      <td>176.0</td>\n",
              "      <td>59.0</td>\n",
              "      <td>Poland</td>\n",
              "      <td>POL</td>\n",
              "      <td>2014 Winter</td>\n",
              "      <td>2014</td>\n",
              "      <td>Winter</td>\n",
              "      <td>Sochi</td>\n",
              "      <td>Ski Jumping</td>\n",
              "      <td>Ski Jumping Men's Large Hill, Individual</td>\n",
              "      <td>NaN</td>\n",
              "    </tr>\n",
              "    <tr>\n",
              "      <th>271113</th>\n",
              "      <td>135570</td>\n",
              "      <td>Piotr ya</td>\n",
              "      <td>M</td>\n",
              "      <td>27.0</td>\n",
              "      <td>176.0</td>\n",
              "      <td>59.0</td>\n",
              "      <td>Poland</td>\n",
              "      <td>POL</td>\n",
              "      <td>2014 Winter</td>\n",
              "      <td>2014</td>\n",
              "      <td>Winter</td>\n",
              "      <td>Sochi</td>\n",
              "      <td>Ski Jumping</td>\n",
              "      <td>Ski Jumping Men's Large Hill, Team</td>\n",
              "      <td>NaN</td>\n",
              "    </tr>\n",
              "    <tr>\n",
              "      <th>271114</th>\n",
              "      <td>135571</td>\n",
              "      <td>Tomasz Ireneusz ya</td>\n",
              "      <td>M</td>\n",
              "      <td>30.0</td>\n",
              "      <td>185.0</td>\n",
              "      <td>96.0</td>\n",
              "      <td>Poland</td>\n",
              "      <td>POL</td>\n",
              "      <td>1998 Winter</td>\n",
              "      <td>1998</td>\n",
              "      <td>Winter</td>\n",
              "      <td>Nagano</td>\n",
              "      <td>Bobsleigh</td>\n",
              "      <td>Bobsleigh Men's Four</td>\n",
              "      <td>NaN</td>\n",
              "    </tr>\n",
              "    <tr>\n",
              "      <th>271115</th>\n",
              "      <td>135571</td>\n",
              "      <td>Tomasz Ireneusz ya</td>\n",
              "      <td>M</td>\n",
              "      <td>34.0</td>\n",
              "      <td>185.0</td>\n",
              "      <td>96.0</td>\n",
              "      <td>Poland</td>\n",
              "      <td>POL</td>\n",
              "      <td>2002 Winter</td>\n",
              "      <td>2002</td>\n",
              "      <td>Winter</td>\n",
              "      <td>Salt Lake City</td>\n",
              "      <td>Bobsleigh</td>\n",
              "      <td>Bobsleigh Men's Four</td>\n",
              "      <td>NaN</td>\n",
              "    </tr>\n",
              "  </tbody>\n",
              "</table>\n",
              "</div>"
            ],
            "text/plain": [
              "            ID  ... Medal\n",
              "271111  135569  ...   NaN\n",
              "271112  135570  ...   NaN\n",
              "271113  135570  ...   NaN\n",
              "271114  135571  ...   NaN\n",
              "271115  135571  ...   NaN\n",
              "\n",
              "[5 rows x 15 columns]"
            ]
          },
          "metadata": {},
          "execution_count": 60
        }
      ]
    },
    {
      "cell_type": "code",
      "metadata": {
        "id": "S0N860OUy80j",
        "colab": {
          "base_uri": "https://localhost:8080/"
        },
        "outputId": "4a10dc54-fd9c-4d1b-f151-5eb7ed6d1c9c"
      },
      "source": [
        "# checking if there is any value NULL in Dataset\n",
        "data.isnull().values.any()"
      ],
      "execution_count": 61,
      "outputs": [
        {
          "output_type": "execute_result",
          "data": {
            "text/plain": [
              "True"
            ]
          },
          "metadata": {},
          "execution_count": 61
        }
      ]
    },
    {
      "cell_type": "code",
      "metadata": {
        "id": "TZznN87bzETN",
        "colab": {
          "base_uri": "https://localhost:8080/",
          "height": 312
        },
        "outputId": "3f5d93e0-ce0e-44fc-be1f-586e09da7926"
      },
      "source": [
        "# To get information regarding competition in Olympics for male vs female\n",
        "count_classes = pd.value_counts(data['Sex'], sort = True)\n",
        "count_classes.plot(kind = 'bar', rot = 0)\n",
        "plt.title(\"Gender Distribution of Athletes in Olympics\")\n",
        "LABELS = [\"Male\", \"Female\"]\n",
        "plt.xticks(range(2),LABELS)\n",
        "plt.xlabel(\"Gender\")\n",
        "plt.ylabel(\"Frequency\")"
      ],
      "execution_count": 62,
      "outputs": [
        {
          "output_type": "execute_result",
          "data": {
            "text/plain": [
              "Text(0, 0.5, 'Frequency')"
            ]
          },
          "metadata": {},
          "execution_count": 62
        },
        {
          "output_type": "display_data",
          "data": {
            "image/png": "[encoded data removed]",
            "text/plain": [
              "<Figure size 432x288 with 1 Axes>"
            ]
          },
          "metadata": {
            "needs_background": "light"
          }
        }
      ]
    },
    {
      "cell_type": "code",
      "metadata": {
        "id": "-0IxZMn5AgV3"
      },
      "source": [
        "# Average age of gold medalist"
      ],
      "execution_count": 63,
      "outputs": []
    },
    {
      "cell_type": "markdown",
      "metadata": {
        "id": "rsNAY3X_V_86"
      },
      "source": [
        "Used dictionary and list to calculate frequency of medals won by each country"
      ]
    },
    {
      "cell_type": "code",
      "metadata": {
        "id": "wDCa0lsCGgXh",
        "colab": {
          "base_uri": "https://localhost:8080/"
        },
        "outputId": "37bfad6c-581f-4b6c-e7b3-6dab7091948b"
      },
      "source": [
        "freq_summer = {}\n",
        "freq_winter = {}\n",
        "total_summer = 0\n",
        "total_winter = 0\n",
        "\n",
        "# Calculating the number of medals won by each country in Summer as well as winter Olympics\n",
        "for row in data.itertuples():\n",
        "    if row.Season == 'Summer':\n",
        "        if row.Medal == 'Gold' or row.Medal == 'Silver' or row.Medal == 'Bronze':\n",
        "            if row.NOC in freq_summer:\n",
        "                freq_summer[row.NOC] += 1\n",
        "            else:\n",
        "                freq_summer[row.NOC] = 1\n",
        "            total_summer += 1\n",
        "    else:\n",
        "        if row.Medal == 'Gold' or row.Medal == 'Silver' or row.Medal == 'Bronze':\n",
        "            if row.NOC in freq_winter:\n",
        "                freq_winter[row.NOC] += 1\n",
        "            else:\n",
        "                freq_winter[row.NOC] = 1\n",
        "            total_winter += 1\n",
        "\n",
        "#Useful for next part\n",
        "original_summer = freq_summer\n",
        "original_winter = freq_winter\n",
        "\n",
        "# The countries with medals less than 2.5% of total medals are represented in others\n",
        "delete = []\n",
        "other = 0\n",
        "\n",
        "for key, value in freq_summer.items():\n",
        "    if(value / total_summer < 0.025):\n",
        "        delete.append(key)\n",
        "        other += value\n",
        "freq_summer['Other'] = other\n",
        "\n",
        "for key in delete:\n",
        "    freq_summer.pop(key)\n",
        "\n",
        "# The countries with medals less than 2.5% of total medals are represented in others\n",
        "delete.clear()\n",
        "other = 0\n",
        "for key, value in freq_winter.items():\n",
        "    if(value / total_winter < 0.025):\n",
        "        delete.append(key)\n",
        "        other += value\n",
        "for key in delete:\n",
        "    freq_winter.pop(key)\n",
        "\n",
        "freq_winter['Other'] = other\n",
        "\n",
        "print(\"Calculations Done\")"
      ],
      "execution_count": 64,
      "outputs": [
        {
          "output_type": "stream",
          "name": "stdout",
          "text": [
            "Calculations Done\n"
          ]
        }
      ]
    },
    {
      "cell_type": "code",
      "metadata": {
        "colab": {
          "base_uri": "https://localhost:8080/",
          "height": 516
        },
        "id": "Ewz1piqAMiqs",
        "outputId": "40f13470-41fd-4645-d3da-e0ee89610e21"
      },
      "source": [
        "# Data to plot\n",
        "labels = []\n",
        "sizes = []\n",
        "for x, y in freq_summer.items():\n",
        "    labels.append(x)\n",
        "    sizes.append(y)\n",
        "\n",
        "# Plot for summer Olympics\n",
        "plt.title('Summer Olympics')\n",
        "plt.pie(sizes, labels=labels)\n",
        "plt.axis('equal')\n",
        "plt.show()\n",
        "\n",
        "labels.clear()\n",
        "sizes.clear()\n",
        "for x, y in freq_winter.items():\n",
        "    labels.append(x)\n",
        "    sizes.append(y)\n",
        "\n",
        "# Plot for Winter Olympics\n",
        "plt.title('Winter Olympics')\n",
        "plt.pie(sizes, labels=labels)\n",
        "plt.axis('equal')\n",
        "plt.show()\n"
      ],
      "execution_count": 65,
      "outputs": [
        {
          "output_type": "display_data",
          "data": {
            "image/png": "[encoded data removed]",
            "text/plain": [
              "<Figure size 432x288 with 1 Axes>"
            ]
          },
          "metadata": {}
        },
        {
          "output_type": "display_data",
          "data": {
            "image/png": "[encoded data removed]",
            "text/plain": [
              "<Figure size 432x288 with 1 Axes>"
            ]
          },
          "metadata": {}
        }
      ]
    },
    {
      "cell_type": "markdown",
      "metadata": {
        "id": "e8x0kum-P32M"
      },
      "source": [
        "Few functions of Sympy"
      ]
    },
    {
      "cell_type": "code",
      "metadata": {
        "colab": {
          "base_uri": "https://localhost:8080/"
        },
        "id": "wgjJSyLQ77Cf",
        "outputId": "5ec9b3fb-bb1d-4d21-c916-abea3fe0c1d0"
      },
      "source": [
        "# print(\"Solution for eqn x^2-3x+2 = 0 is\",solveset(Eq(x**2-3*x, -2),x))\n",
        "# print(\"Solution for eqn x^2-3x+2 = 0 is\",solveset(x**2 + 1, x))\n",
        "print(\"-----------------------------------------------\")\n",
        "\n",
        "summer_participant = list(original_summer.keys())\n",
        "winter_participants = list(original_winter.keys())\n",
        "\n",
        "sum=FiniteSet(*summer_participant) \n",
        "win=FiniteSet(*winter_participants) \n",
        "\n",
        "print(SymmetricDifference(sum,win))\n"
      ],
      "execution_count": 72,
      "outputs": [
        {
          "output_type": "stream",
          "name": "stdout",
          "text": [
            "-----------------------------------------------\n",
            "Union(Complement(FiniteSet(AUS, CHN, GBR, HUN, NED), FiniteSet(AUT, CAN, FIN, GDR, NOR, SUI, TCH)), Complement(FiniteSet(AUT, CAN, FIN, GDR, NOR, SUI, TCH), FiniteSet(AUS, CHN, GBR, HUN, NED)))\n"
          ]
        }
      ]
    }
  ]
}