{
  "nbformat": 4,
  "nbformat_minor": 0,
  "metadata": {
    "colab": {
      "name": "alphabetVGG16.ipynb",
      "provenance": [],
      "collapsed_sections": [],
      "include_colab_link": true
    },
    "kernelspec": {
      "name": "python3",
      "display_name": "Python 3"
    },
    "accelerator": "TPU"
  },
  "cells": [
    {
      "cell_type": "markdown",
      "metadata": {
        "id": "view-in-github",
        "colab_type": "text"
      },
      "source": [
        "<a href=\"https://colab.research.google.com/github/nisarg0/NeuralNetwork/blob/master/alphabetVGG16.ipynb\" target=\"_parent\"><img src=\"https://colab.research.google.com/assets/colab-badge.svg\" alt=\"Open In Colab\"/></a>"
      ]
    },
    {
      "cell_type": "code",
      "metadata": {
        "id": "5ndy9EUoEmsI"
      },
      "source": [
        "from keras.layers import Input, Lambda, Dense, Flatten\r\n",
        "from keras.models import Model\r\n",
        "from keras.applications.vgg16 import VGG16\r\n",
        "from keras.applications.vgg16 import preprocess_input\r\n",
        "from keras.preprocessing import image\r\n",
        "from keras.preprocessing.image import ImageDataGenerator\r\n",
        "from keras.models import Sequential\r\n",
        "import numpy as np\r\n",
        "from glob import glob\r\n",
        "import matplotlib.pyplot as plt"
      ],
      "execution_count": null,
      "outputs": []
    },
    {
      "cell_type": "code",
      "metadata": {
        "colab": {
          "base_uri": "https://localhost:8080/"
        },
        "id": "0Yg2_IjR3QMi",
        "outputId": "ccc6edb9-e5db-421d-ab54-1c02f94dcb48"
      },
      "source": [
        "!gdown --id 126G-cGUz3_jRBgmv8zk8Qp-6tmywUc-X"
      ],
      "execution_count": null,
      "outputs": [
        {
          "output_type": "stream",
          "text": [
            "Downloading...\n",
            "From: https://drive.google.com/uc?id=126G-cGUz3_jRBgmv8zk8Qp-6tmywUc-X\n",
            "To: /content/Alphabet Dataset.zip\n",
            "\r  0% 0.00/1.21M [00:00<?, ?B/s]\r100% 1.21M/1.21M [00:00<00:00, 80.8MB/s]\n"
          ],
          "name": "stdout"
        }
      ]
    },
    {
      "cell_type": "code",
      "metadata": {
        "id": "jW9jSAnGFblI"
      },
      "source": [
        "!unzip '/content/Alphabet Dataset.zip'"
      ],
      "execution_count": null,
      "outputs": []
    },
    {
      "cell_type": "code",
      "metadata": {
        "id": "dHNNZn20EyDZ"
      },
      "source": [
        "# re-size all the images to this\r\n",
        "IMAGE_SIZE = [224, 224]\r\n"
      ],
      "execution_count": null,
      "outputs": []
    },
    {
      "cell_type": "code",
      "metadata": {
        "id": "mPnxYLwyE05v"
      },
      "source": [
        "train_path = '/content/Alphabet Dataset/Train'\r\n",
        "valid_path = '/content/Alphabet Dataset/Test'"
      ],
      "execution_count": null,
      "outputs": []
    },
    {
      "cell_type": "code",
      "metadata": {
        "colab": {
          "base_uri": "https://localhost:8080/"
        },
        "id": "uWVld6FxGfHR",
        "outputId": "e5d1ad35-f9bb-4509-9625-8b743e64af54"
      },
      "source": [
        "# add preprocessing layer to the front of VGG\r\n",
        "vgg = VGG16(input_shape=IMAGE_SIZE + [3], weights='imagenet', include_top=False)"
      ],
      "execution_count": null,
      "outputs": [
        {
          "output_type": "stream",
          "text": [
            "Downloading data from https://storage.googleapis.com/tensorflow/keras-applications/vgg16/vgg16_weights_tf_dim_ordering_tf_kernels_notop.h5\n",
            "58892288/58889256 [==============================] - 1s 0us/step\n"
          ],
          "name": "stdout"
        }
      ]
    },
    {
      "cell_type": "code",
      "metadata": {
        "id": "EOqj3rcbGlU4"
      },
      "source": [
        "# don't train existing weights\r\n",
        "for layer in vgg.layers:\r\n",
        "  layer.trainable = False"
      ],
      "execution_count": null,
      "outputs": []
    },
    {
      "cell_type": "code",
      "metadata": {
        "id": "xVbWusEDG8oi"
      },
      "source": [
        "# useful for getting number of classes\r\n",
        "folders = 26"
      ],
      "execution_count": null,
      "outputs": []
    },
    {
      "cell_type": "code",
      "metadata": {
        "id": "Qm_GWbOlHe6k"
      },
      "source": [
        "# our layers - you can add more if you want\r\n",
        "x = Flatten()(vgg.output)\r\n",
        "prediction = Dense(folders, activation='softmax')(x)"
      ],
      "execution_count": null,
      "outputs": []
    },
    {
      "cell_type": "code",
      "metadata": {
        "colab": {
          "base_uri": "https://localhost:8080/"
        },
        "id": "5-ZTwELXHtR9",
        "outputId": "610633eb-c130-426a-bb1d-5a067e08962a"
      },
      "source": [
        "# create a model object\r\n",
        "model = Model(inputs=vgg.input, outputs=prediction)\r\n",
        "# view the structure of the model\r\n",
        "model.summary()"
      ],
      "execution_count": null,
      "outputs": [
        {
          "output_type": "stream",
          "text": [
            "Model: \"model\"\n",
            "_________________________________________________________________\n",
            "Layer (type)                 Output Shape              Param #   \n",
            "=================================================================\n",
            "input_1 (InputLayer)         [(None, 224, 224, 3)]     0         \n",
            "_________________________________________________________________\n",
            "block1_conv1 (Conv2D)        (None, 224, 224, 64)      1792      \n",
            "_________________________________________________________________\n",
            "block1_conv2 (Conv2D)        (None, 224, 224, 64)      36928     \n",
            "_________________________________________________________________\n",
            "block1_pool (MaxPooling2D)   (None, 112, 112, 64)      0         \n",
            "_________________________________________________________________\n",
            "block2_conv1 (Conv2D)        (None, 112, 112, 128)     73856     \n",
            "_________________________________________________________________\n",
            "block2_conv2 (Conv2D)        (None, 112, 112, 128)     147584    \n",
            "_________________________________________________________________\n",
            "block2_pool (MaxPooling2D)   (None, 56, 56, 128)       0         \n",
            "_________________________________________________________________\n",
            "block3_conv1 (Conv2D)        (None, 56, 56, 256)       295168    \n",
            "_________________________________________________________________\n",
            "block3_conv2 (Conv2D)        (None, 56, 56, 256)       590080    \n",
            "_________________________________________________________________\n",
            "block3_conv3 (Conv2D)        (None, 56, 56, 256)       590080    \n",
            "_________________________________________________________________\n",
            "block3_pool (MaxPooling2D)   (None, 28, 28, 256)       0         \n",
            "_________________________________________________________________\n",
            "block4_conv1 (Conv2D)        (None, 28, 28, 512)       1180160   \n",
            "_________________________________________________________________\n",
            "block4_conv2 (Conv2D)        (None, 28, 28, 512)       2359808   \n",
            "_________________________________________________________________\n",
            "block4_conv3 (Conv2D)        (None, 28, 28, 512)       2359808   \n",
            "_________________________________________________________________\n",
            "block4_pool (MaxPooling2D)   (None, 14, 14, 512)       0         \n",
            "_________________________________________________________________\n",
            "block5_conv1 (Conv2D)        (None, 14, 14, 512)       2359808   \n",
            "_________________________________________________________________\n",
            "block5_conv2 (Conv2D)        (None, 14, 14, 512)       2359808   \n",
            "_________________________________________________________________\n",
            "block5_conv3 (Conv2D)        (None, 14, 14, 512)       2359808   \n",
            "_________________________________________________________________\n",
            "block5_pool (MaxPooling2D)   (None, 7, 7, 512)         0         \n",
            "_________________________________________________________________\n",
            "flatten (Flatten)            (None, 25088)             0         \n",
            "_________________________________________________________________\n",
            "dense (Dense)                (None, 26)                652314    \n",
            "=================================================================\n",
            "Total params: 15,367,002\n",
            "Trainable params: 652,314\n",
            "Non-trainable params: 14,714,688\n",
            "_________________________________________________________________\n"
          ],
          "name": "stdout"
        }
      ]
    },
    {
      "cell_type": "code",
      "metadata": {
        "id": "q_jPSyxfbr_w"
      },
      "source": [
        "from keras import backend as K\r\n",
        "\r\n",
        "def recall_m(y_true, y_pred):\r\n",
        "    true_positives = K.sum(K.round(K.clip(y_true * y_pred, 0, 1)))\r\n",
        "    possible_positives = K.sum(K.round(K.clip(y_true, 0, 1)))\r\n",
        "    recall = true_positives / (possible_positives + K.epsilon())\r\n",
        "    return recall\r\n",
        "\r\n",
        "def precision_m(y_true, y_pred):\r\n",
        "    true_positives = K.sum(K.round(K.clip(y_true * y_pred, 0, 1)))\r\n",
        "    predicted_positives = K.sum(K.round(K.clip(y_pred, 0, 1)))\r\n",
        "    precision = true_positives / (predicted_positives + K.epsilon())\r\n",
        "    return precision\r\n",
        "\r\n",
        "def f1_m(y_true, y_pred):\r\n",
        "    precision = precision_m(y_true, y_pred)\r\n",
        "    recall = recall_m(y_true, y_pred)\r\n",
        "    return 2*((precision*recall)/(precision+recall+K.epsilon()))"
      ],
      "execution_count": null,
      "outputs": []
    },
    {
      "cell_type": "code",
      "metadata": {
        "id": "bgHXSOeZIKR_"
      },
      "source": [
        "# tell the model what cost and optimization method to use\r\n",
        "model.compile(\r\n",
        "  loss='categorical_crossentropy',\r\n",
        "  optimizer='adam',\r\n",
        "  metrics=['accuracy',f1_m,precision_m, recall_m]\r\n",
        ")"
      ],
      "execution_count": null,
      "outputs": []
    },
    {
      "cell_type": "code",
      "metadata": {
        "colab": {
          "base_uri": "https://localhost:8080/"
        },
        "id": "XXOc4ss8INKU",
        "outputId": "7d8aaeb9-188f-4ae9-de84-6fe737c2ac9f"
      },
      "source": [
        "from keras.preprocessing.image import ImageDataGenerator\r\n",
        "\r\n",
        "train_datagen = ImageDataGenerator(rescale = 1./255,\r\n",
        "                                   shear_range = 0.2,\r\n",
        "                                   zoom_range = 0.2,\r\n",
        "                                   horizontal_flip = True)\r\n",
        "\r\n",
        "test_datagen = ImageDataGenerator(rescale = 1./255)\r\n",
        "\r\n",
        "training_set = train_datagen.flow_from_directory('/content/Alphabet Dataset/Train/',\r\n",
        "                                                 target_size = (224, 224),\r\n",
        "                                                 batch_size = 64,\r\n",
        "                                                 class_mode = 'categorical')\r\n",
        "\r\n",
        "test_set = test_datagen.flow_from_directory('/content/Alphabet Dataset/Test/',\r\n",
        "                                            target_size = (224, 224),\r\n",
        "                                            batch_size = 64,\r\n",
        "                                            class_mode = 'categorical')"
      ],
      "execution_count": null,
      "outputs": [
        {
          "output_type": "stream",
          "text": [
            "Found 1050 images belonging to 26 classes.\n",
            "Found 260 images belonging to 26 classes.\n"
          ],
          "name": "stdout"
        }
      ]
    },
    {
      "cell_type": "code",
      "metadata": {
        "colab": {
          "base_uri": "https://localhost:8080/"
        },
        "id": "OuGA1vSOIukB",
        "outputId": "7224fef4-6fca-43f6-ee49-fa047fbb1c68"
      },
      "source": [
        "# fit the model\r\n",
        "r = model.fit_generator(\r\n",
        "  training_set,\r\n",
        "  validation_data=test_set,\r\n",
        "  epochs=20,\r\n",
        "  steps_per_epoch=len(training_set),\r\n",
        "  validation_steps=len(test_set)\r\n",
        ")"
      ],
      "execution_count": null,
      "outputs": [
        {
          "output_type": "stream",
          "text": [
            "/usr/local/lib/python3.7/dist-packages/tensorflow/python/keras/engine/training.py:1844: UserWarning: `Model.fit_generator` is deprecated and will be removed in a future version. Please use `Model.fit`, which supports generators.\n",
            "  warnings.warn('`Model.fit_generator` is deprecated and '\n"
          ],
          "name": "stderr"
        },
        {
          "output_type": "stream",
          "text": [
            "Epoch 1/20\n",
            "17/17 [==============================] - 665s 39s/step - loss: 3.1199 - accuracy: 0.2111 - f1_m: 0.0744 - precision_m: 0.2691 - recall_m: 0.0473 - val_loss: 1.1810 - val_accuracy: 0.6731 - val_f1_m: 0.5627 - val_precision_m: 0.9279 - val_recall_m: 0.4125\n",
            "Epoch 2/20\n",
            "17/17 [==============================] - 660s 39s/step - loss: 0.9897 - accuracy: 0.7217 - f1_m: 0.6785 - precision_m: 0.9156 - recall_m: 0.5433 - val_loss: 0.6568 - val_accuracy: 0.8038 - val_f1_m: 0.7928 - val_precision_m: 0.9320 - val_recall_m: 0.6906\n",
            "Epoch 3/20\n",
            "17/17 [==============================] - 661s 39s/step - loss: 0.5523 - accuracy: 0.8561 - f1_m: 0.8298 - precision_m: 0.9353 - recall_m: 0.7461 - val_loss: 0.5685 - val_accuracy: 0.7962 - val_f1_m: 0.8475 - val_precision_m: 0.9263 - val_recall_m: 0.7844\n",
            "Epoch 4/20\n",
            "17/17 [==============================] - 652s 39s/step - loss: 0.4213 - accuracy: 0.8824 - f1_m: 0.8716 - precision_m: 0.9408 - recall_m: 0.8124 - val_loss: 0.4785 - val_accuracy: 0.8538 - val_f1_m: 0.8703 - val_precision_m: 0.9323 - val_recall_m: 0.8188\n",
            "Epoch 5/20\n",
            "17/17 [==============================] - 653s 39s/step - loss: 0.2763 - accuracy: 0.9345 - f1_m: 0.9263 - precision_m: 0.9760 - recall_m: 0.8817 - val_loss: 0.4096 - val_accuracy: 0.8731 - val_f1_m: 0.8756 - val_precision_m: 0.9479 - val_recall_m: 0.8156\n",
            "Epoch 6/20\n",
            "17/17 [==============================] - 652s 39s/step - loss: 0.2457 - accuracy: 0.9339 - f1_m: 0.9290 - precision_m: 0.9605 - recall_m: 0.8998 - val_loss: 0.3931 - val_accuracy: 0.9000 - val_f1_m: 0.9096 - val_precision_m: 0.9482 - val_recall_m: 0.8750\n",
            "Epoch 7/20\n",
            "17/17 [==============================] - 654s 39s/step - loss: 0.2216 - accuracy: 0.9481 - f1_m: 0.9506 - precision_m: 0.9728 - recall_m: 0.9298 - val_loss: 0.3486 - val_accuracy: 0.9000 - val_f1_m: 0.8913 - val_precision_m: 0.9524 - val_recall_m: 0.8406\n",
            "Epoch 8/20\n",
            "17/17 [==============================] - 653s 39s/step - loss: 0.1967 - accuracy: 0.9546 - f1_m: 0.9526 - precision_m: 0.9808 - recall_m: 0.9265 - val_loss: 0.3347 - val_accuracy: 0.9154 - val_f1_m: 0.9253 - val_precision_m: 0.9528 - val_recall_m: 0.9000\n",
            "Epoch 9/20\n",
            "17/17 [==============================] - 653s 39s/step - loss: 0.1453 - accuracy: 0.9786 - f1_m: 0.9770 - precision_m: 0.9889 - recall_m: 0.9657 - val_loss: 0.4014 - val_accuracy: 0.8692 - val_f1_m: 0.8925 - val_precision_m: 0.9219 - val_recall_m: 0.8656\n",
            "Epoch 10/20\n",
            "17/17 [==============================] - 653s 39s/step - loss: 0.1652 - accuracy: 0.9558 - f1_m: 0.9537 - precision_m: 0.9687 - recall_m: 0.9393 - val_loss: 0.2895 - val_accuracy: 0.9192 - val_f1_m: 0.9319 - val_precision_m: 0.9571 - val_recall_m: 0.9094\n",
            "Epoch 11/20\n",
            "17/17 [==============================] - 668s 40s/step - loss: 0.1024 - accuracy: 0.9847 - f1_m: 0.9832 - precision_m: 0.9926 - recall_m: 0.9742 - val_loss: 0.3394 - val_accuracy: 0.8846 - val_f1_m: 0.9136 - val_precision_m: 0.9422 - val_recall_m: 0.8875\n",
            "Epoch 12/20\n",
            "17/17 [==============================] - 655s 39s/step - loss: 0.1104 - accuracy: 0.9824 - f1_m: 0.9787 - precision_m: 0.9867 - recall_m: 0.9710 - val_loss: 0.3125 - val_accuracy: 0.9077 - val_f1_m: 0.8860 - val_precision_m: 0.9369 - val_recall_m: 0.8438\n",
            "Epoch 13/20\n",
            "17/17 [==============================] - 657s 39s/step - loss: 0.1044 - accuracy: 0.9811 - f1_m: 0.9807 - precision_m: 0.9880 - recall_m: 0.9737 - val_loss: 0.3209 - val_accuracy: 0.9000 - val_f1_m: 0.9241 - val_precision_m: 0.9504 - val_recall_m: 0.9000\n",
            "Epoch 14/20\n",
            "17/17 [==============================] - 652s 39s/step - loss: 0.0755 - accuracy: 0.9881 - f1_m: 0.9816 - precision_m: 0.9857 - recall_m: 0.9776 - val_loss: 0.2716 - val_accuracy: 0.9038 - val_f1_m: 0.9310 - val_precision_m: 0.9505 - val_recall_m: 0.9125\n",
            "Epoch 15/20\n",
            "17/17 [==============================] - 651s 39s/step - loss: 0.0806 - accuracy: 0.9865 - f1_m: 0.9874 - precision_m: 0.9928 - recall_m: 0.9822 - val_loss: 0.2981 - val_accuracy: 0.9192 - val_f1_m: 0.8872 - val_precision_m: 0.9103 - val_recall_m: 0.8656\n",
            "Epoch 16/20\n",
            "17/17 [==============================] - 651s 39s/step - loss: 0.0741 - accuracy: 0.9853 - f1_m: 0.9848 - precision_m: 0.9877 - recall_m: 0.9820 - val_loss: 0.2745 - val_accuracy: 0.9077 - val_f1_m: 0.9322 - val_precision_m: 0.9535 - val_recall_m: 0.9125\n",
            "Epoch 17/20\n",
            "17/17 [==============================] - 651s 39s/step - loss: 0.0731 - accuracy: 0.9909 - f1_m: 0.9906 - precision_m: 0.9945 - recall_m: 0.9867 - val_loss: 0.2497 - val_accuracy: 0.9192 - val_f1_m: 0.9379 - val_precision_m: 0.9515 - val_recall_m: 0.9250\n",
            "Epoch 18/20\n",
            "17/17 [==============================] - 651s 39s/step - loss: 0.0524 - accuracy: 0.9925 - f1_m: 0.9918 - precision_m: 0.9941 - recall_m: 0.9895 - val_loss: 0.2411 - val_accuracy: 0.9269 - val_f1_m: 0.9310 - val_precision_m: 0.9506 - val_recall_m: 0.9125\n",
            "Epoch 19/20\n",
            "17/17 [==============================] - 651s 39s/step - loss: 0.0478 - accuracy: 0.9939 - f1_m: 0.9953 - precision_m: 0.9991 - recall_m: 0.9916 - val_loss: 0.2593 - val_accuracy: 0.9192 - val_f1_m: 0.9091 - val_precision_m: 0.9543 - val_recall_m: 0.8719\n",
            "Epoch 20/20\n",
            "17/17 [==============================] - 652s 39s/step - loss: 0.0439 - accuracy: 0.9943 - f1_m: 0.9945 - precision_m: 0.9979 - recall_m: 0.9912 - val_loss: 0.2823 - val_accuracy: 0.9077 - val_f1_m: 0.8948 - val_precision_m: 0.9381 - val_recall_m: 0.8594\n"
          ],
          "name": "stdout"
        }
      ]
    },
    {
      "cell_type": "code",
      "metadata": {
        "colab": {
          "base_uri": "https://localhost:8080/",
          "height": 1000
        },
        "id": "byYwULxTRcbr",
        "outputId": "9a39305a-e834-4f16-b6f3-dcc1790a9dd8"
      },
      "source": [
        "# loss\r\n",
        "plt.plot(r.history['loss'], label='train loss')\r\n",
        "plt.plot(r.history['val_loss'], label='val loss')\r\n",
        "plt.legend()\r\n",
        "plt.show()\r\n",
        "plt.savefig('LossVal_loss')\r\n",
        "\r\n",
        "# accuracies\r\n",
        "plt.plot(r.history['accuracy'], label='train acc')\r\n",
        "plt.plot(r.history['val_accuracy'], label='val acc')\r\n",
        "plt.legend()\r\n",
        "plt.show()\r\n",
        "plt.savefig('AccVal_acc')\r\n",
        "\r\n",
        "# f1\r\n",
        "plt.plot(r.history['f1_m'], label='train f1')\r\n",
        "plt.plot(r.history['val_f1_m'], label='val f1')\r\n",
        "plt.legend()\r\n",
        "plt.show()\r\n",
        "plt.savefig('F1')\r\n",
        "\r\n",
        "# precision\r\n",
        "plt.plot(r.history['precision_m'], label='train precision')\r\n",
        "plt.plot(r.history['val_precision_m'], label='val precision')\r\n",
        "plt.legend()\r\n",
        "plt.show()\r\n",
        "plt.savefig('Precision')\r\n",
        "\r\n",
        "# f1\r\n",
        "plt.plot(r.history['recall_m'], label='train recall')\r\n",
        "plt.plot(r.history['val_recall_m'], label='val recall')\r\n",
        "plt.legend()\r\n",
        "plt.show()\r\n",
        "plt.savefig('F1')"
      ],
      "execution_count": null,
      "outputs": [
        {
          "output_type": "display_data",
          "data": {
            "image/png": "[encoded data removed]",
            "text/plain": [
              "<Figure size 432x288 with 1 Axes>"
            ]
          },
          "metadata": {
            "tags": [],
            "needs_background": "light"
          }
        },
        {
          "output_type": "display_data",
          "data": {
            "image/png": "[encoded data removed]",
            "text/plain": [
              "<Figure size 432x288 with 1 Axes>"
            ]
          },
          "metadata": {
            "tags": [],
            "needs_background": "light"
          }
        },
        {
          "output_type": "display_data",
          "data": {
            "image/png": "[encoded data removed]",
            "text/plain": [
              "<Figure size 432x288 with 1 Axes>"
            ]
          },
          "metadata": {
            "tags": [],
            "needs_background": "light"
          }
        },
        {
          "output_type": "display_data",
          "data": {
            "image/png": "[encoded data removed]",
            "text/plain": [
              "<Figure size 432x288 with 1 Axes>"
            ]
          },
          "metadata": {
            "tags": [],
            "needs_background": "light"
          }
        },
        {
          "output_type": "display_data",
          "data": {
            "image/png": "[encoded data removed]",
            "text/plain": [
              "<Figure size 432x288 with 1 Axes>"
            ]
          },
          "metadata": {
            "tags": [],
            "needs_background": "light"
          }
        },
        {
          "output_type": "display_data",
          "data": {
            "text/plain": [
              "<Figure size 432x288 with 0 Axes>"
            ]
          },
          "metadata": {
            "tags": []
          }
        }
      ]
    }
  ]
}